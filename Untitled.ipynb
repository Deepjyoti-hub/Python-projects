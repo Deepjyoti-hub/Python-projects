{
 "cells": [
  {
   "cell_type": "code",
   "execution_count": null,
   "id": "6d23a786",
   "metadata": {},
   "outputs": [],
   "source": [
    "January - 2200\n",
    "February - 2350\n",
    "March - 2600\n",
    "April - 2130\n",
    "May - 2190"
   ]
  },
  {
   "cell_type": "code",
   "execution_count": 1,
   "id": "92809ada",
   "metadata": {},
   "outputs": [],
   "source": [
    "import numpy as np"
   ]
  },
  {
   "cell_type": "code",
   "execution_count": 3,
   "id": "351833a4",
   "metadata": {},
   "outputs": [],
   "source": [
    "ar=np.array([['january','feb','march','april','may'],[2200,2350,2600,2130,2190]])"
   ]
  },
  {
   "cell_type": "code",
   "execution_count": 4,
   "id": "0c8e861f",
   "metadata": {},
   "outputs": [
    {
     "data": {
      "text/plain": [
       "array([['january', 'feb', 'march', 'april', 'may'],\n",
       "       ['2200', '2350', '2600', '2130', '2190']], dtype='<U11')"
      ]
     },
     "execution_count": 4,
     "metadata": {},
     "output_type": "execute_result"
    }
   ],
   "source": [
    "ar"
   ]
  },
  {
   "cell_type": "code",
   "execution_count": 5,
   "id": "193ca85d",
   "metadata": {},
   "outputs": [],
   "source": [
    "a={'januarry':2200,'feb':2350,'march':2600,'april':2130,'may':2190}"
   ]
  },
  {
   "cell_type": "code",
   "execution_count": null,
   "id": "67e0268d",
   "metadata": {},
   "outputs": [],
   "source": []
  }
 ],
 "metadata": {
  "kernelspec": {
   "display_name": "Python 3",
   "language": "python",
   "name": "python3"
  },
  "language_info": {
   "codemirror_mode": {
    "name": "ipython",
    "version": 3
   },
   "file_extension": ".py",
   "mimetype": "text/x-python",
   "name": "python",
   "nbconvert_exporter": "python",
   "pygments_lexer": "ipython3",
   "version": "3.8.8"
  }
 },
 "nbformat": 4,
 "nbformat_minor": 5
}
