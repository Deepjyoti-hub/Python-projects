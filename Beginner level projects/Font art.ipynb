{
 "cells": [
  {
   "cell_type": "code",
   "execution_count": 1,
   "id": "50ebffcd",
   "metadata": {},
   "outputs": [
    {
     "name": "stdout",
     "output_type": "stream",
     "text": [
      "######  ####### ####### ######        # #     # ####### ####### ### \n",
      "#     # #       #       #     #       #  #   #  #     #    #     #  \n",
      "#     # #       #       #     #       #   # #   #     #    #     #  \n",
      "#     # #####   #####   ######        #    #    #     #    #     #  \n",
      "#     # #       #       #       #     #    #    #     #    #     #  \n",
      "#     # #       #       #       #     #    #    #     #    #     #  \n",
      "######  ####### ####### #        #####     #    #######    #    ### \n",
      "                                                                    \n",
      "\n"
     ]
    }
   ],
   "source": [
    "import pyfiglet\n",
    "font = pyfiglet.figlet_format('DEEPJYOTI',font='banner')\n",
    "print(font)"
   ]
  },
  {
   "cell_type": "markdown",
   "id": "d54058cf",
   "metadata": {},
   "source": [
    "### for more fonts visit to http://www.figlet.org/fontdb.cgi"
   ]
  },
  {
   "cell_type": "code",
   "execution_count": null,
   "id": "a6c2cb3e",
   "metadata": {},
   "outputs": [],
   "source": []
  }
 ],
 "metadata": {
  "kernelspec": {
   "display_name": "Python 3",
   "language": "python",
   "name": "python3"
  },
  "language_info": {
   "codemirror_mode": {
    "name": "ipython",
    "version": 3
   },
   "file_extension": ".py",
   "mimetype": "text/x-python",
   "name": "python",
   "nbconvert_exporter": "python",
   "pygments_lexer": "ipython3",
   "version": "3.8.8"
  }
 },
 "nbformat": 4,
 "nbformat_minor": 5
}
