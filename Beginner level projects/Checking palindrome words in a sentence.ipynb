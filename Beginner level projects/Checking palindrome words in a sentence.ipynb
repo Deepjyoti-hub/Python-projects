{
 "cells": [
  {
   "cell_type": "markdown",
   "id": "004e3b03",
   "metadata": {},
   "source": [
    "### Palindrome words are those words which reads same backward and forward\n",
    "     for example: MOM, RADAR,ROTATOR"
   ]
  },
  {
   "cell_type": "markdown",
   "id": "94748a96",
   "metadata": {},
   "source": [
    "."
   ]
  },
  {
   "cell_type": "code",
   "execution_count": 2,
   "id": "e4245d6f",
   "metadata": {},
   "outputs": [
    {
     "name": "stdout",
     "output_type": "stream",
     "text": [
      "enter the sentence :my mom is with nitin\n",
      "the list of palindrome words is: ['mom', 'nitin']\n"
     ]
    }
   ],
   "source": [
    "sentence= input('enter the sentence :')\n",
    "def palindrome(sentence):\n",
    "    for i in (\">.?/<,:;'(){}[]*^%$#@!!\"):\n",
    "        sentence=sentence.replace(i,'')\n",
    "    pL=[]\n",
    "    for num in sentence.split(' '):\n",
    "        if num==num[::-1]:\n",
    "            pL.append(num)\n",
    "    print('the list of palindrome words is: {}'.format(pL)) \n",
    "palindrome(sentence)\n",
    "        "
   ]
  },
  {
   "cell_type": "code",
   "execution_count": null,
   "id": "44c6c65d",
   "metadata": {},
   "outputs": [],
   "source": []
  }
 ],
 "metadata": {
  "kernelspec": {
   "display_name": "Python 3",
   "language": "python",
   "name": "python3"
  },
  "language_info": {
   "codemirror_mode": {
    "name": "ipython",
    "version": 3
   },
   "file_extension": ".py",
   "mimetype": "text/x-python",
   "name": "python",
   "nbconvert_exporter": "python",
   "pygments_lexer": "ipython3",
   "version": "3.8.8"
  }
 },
 "nbformat": 4,
 "nbformat_minor": 5
}
