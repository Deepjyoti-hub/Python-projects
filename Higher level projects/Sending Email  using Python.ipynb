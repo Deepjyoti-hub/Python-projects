{
 "cells": [
  {
   "cell_type": "markdown",
   "id": "4c99b36f",
   "metadata": {},
   "source": [
    "# Sending Email"
   ]
  },
  {
   "cell_type": "markdown",
   "id": "3327cd7a",
   "metadata": {},
   "source": [
    "## For this we need to do follow the following steps:\n",
    "1.Connecting to email server.<br>\n",
    "2.Confirming connection.<br>\n",
    "3.Setting a protocol.<br>\n",
    "4.Logging on <br>\n",
    "5.Sending the message.<br>\n",
    "6.Closing the session"
   ]
  },
  {
   "cell_type": "markdown",
   "id": "d32b7598",
   "metadata": {},
   "source": [
    "### Before moving forward with these steps , there are few things we need to know ."
   ]
  },
  {
   "cell_type": "markdown",
   "id": "1b974ecf",
   "metadata": {},
   "source": [
    "1: There are many email providers.We can choose any one. <br>  Every email provider has their own SMTP(Simple Mail Transfer Protocol) server domain name.<br>(I would like to go with Gmail provider whose server domain name is 'smtp.gmail.com')"
   ]
  },
  {
   "cell_type": "markdown",
   "id": "30ccaa29",
   "metadata": {},
   "source": [
    "2.In this we will generate an app password instead of general password. This let's Gmail know that Python is attempting to access our account  authorised by us."
   ]
  },
  {
   "cell_type": "markdown",
   "id": "c4a109c4",
   "metadata": {},
   "source": [
    "### So here we start our process..."
   ]
  },
  {
   "cell_type": "markdown",
   "id": "eb84af68",
   "metadata": {},
   "source": [
    "#### Importing smtplib library \n",
    "The smtplib library allows you to manually go through the steps of creating and sending an email in Python:"
   ]
  },
  {
   "cell_type": "code",
   "execution_count": 1,
   "id": "2b297afd",
   "metadata": {},
   "outputs": [],
   "source": [
    "import smtplib"
   ]
  },
  {
   "cell_type": "markdown",
   "id": "e7525f75",
   "metadata": {},
   "source": [
    "## Step1: Connecting to Email server"
   ]
  },
  {
   "cell_type": "markdown",
   "id": "69929576",
   "metadata": {},
   "source": [
    "Here we are creating an STMP object that can make the method calls to log you in to your email in order to send messages. <br>Notice how also specify a port number. If the number 587 does not work on your computer, try using 465 instead.<br> Keep in mind, a firewall or antivirus may prevent Python from opening up this port, so you may need to disable it on your computer."
   ]
  },
  {
   "cell_type": "code",
   "execution_count": 2,
   "id": "91a17f82",
   "metadata": {},
   "outputs": [],
   "source": [
    "smtp_obj = smtplib.SMTP('smtp.gmail.com',587)  #587 is the port number\n"
   ]
  },
  {
   "cell_type": "markdown",
   "id": "787a3b43",
   "metadata": {},
   "source": [
    "Next we run the ehlo() command which \"greets\" the server and establishes the connection. This method call should be done directly after creating the object. Calling it after other methods may result in errors in connecting later on. The first item in the tuple that is returned should be 250, indicating a successful connection."
   ]
  },
  {
   "cell_type": "code",
   "execution_count": 3,
   "id": "4d467b8c",
   "metadata": {},
   "outputs": [
    {
     "data": {
      "text/plain": [
       "(250,\n",
       " b'smtp.gmail.com at your service, [2409:4053:50b:f147:ed44:e514:af7:36e6]\\nSIZE 35882577\\n8BITMIME\\nSTARTTLS\\nENHANCEDSTATUSCODES\\nPIPELINING\\nCHUNKING\\nSMTPUTF8')"
      ]
     },
     "execution_count": 3,
     "metadata": {},
     "output_type": "execute_result"
    }
   ],
   "source": [
    "smtp_obj.ehlo() #Remember this step should be right after creating object"
   ]
  },
  {
   "cell_type": "markdown",
   "id": "019125a1",
   "metadata": {},
   "source": [
    "## Step 2: Confirming the Connection "
   ]
  },
  {
   "cell_type": "markdown",
   "id": "34bdaf61",
   "metadata": {},
   "source": [
    "Note that: When using the 587 port, this means we are using TLS encryption, which we need to initiate by running the starttls() command.<br> If we are using port 465, this means we are using SSL and we can skip this step."
   ]
  },
  {
   "cell_type": "code",
   "execution_count": 4,
   "id": "ff80c231",
   "metadata": {},
   "outputs": [
    {
     "data": {
      "text/plain": [
       "(220, b'2.0.0 Ready to start TLS')"
      ]
     },
     "execution_count": 4,
     "metadata": {},
     "output_type": "execute_result"
    }
   ],
   "source": [
    "smtp_obj.starttls() # use only for port number 587"
   ]
  },
  {
   "cell_type": "markdown",
   "id": "5027e1a2",
   "metadata": {},
   "source": [
    "## Step 3 and 4: Setting up the protocol and logging on "
   ]
  },
  {
   "cell_type": "markdown",
   "id": "96055760",
   "metadata": {},
   "source": [
    "###### Now its time to set up the email and the passwords."
   ]
  },
  {
   "cell_type": "markdown",
   "id": "91a26b7e",
   "metadata": {},
   "source": [
    "REMEMBER:  we should never save the raw string of our password or email in a script, because anyone that sees this script will then be able to see our email and password! Instead we should use input() to get that information.<br><br>\n",
    "If we also don't want our password to be visible when typing it in, we can use the built-in getpass library that will hide our password as we type it in, either with asterisks or by just keeping it invisible."
   ]
  },
  {
   "cell_type": "code",
   "execution_count": 5,
   "id": "36b46d7d",
   "metadata": {},
   "outputs": [],
   "source": [
    "import getpass"
   ]
  },
  {
   "cell_type": "markdown",
   "id": "ef05b86c",
   "metadata": {},
   "source": [
    "#### NOTE: For Gmail Users, you need to generate an app password instead of your normal email password as I already mentioned above. <br>This also requires enabling 2-step authentication. <br>Follow the instructions here to set-up 2-Step Factor Authentication as well as App Password Generation:https://support.google.com/accounts/answer/185833?hl=en/. <br> >>Set-up 2 Factor Authentication<br> >> Then create the App Password, choose Mail as the App and give it any name you want. This will output a 16 letter password for you. <br> >> Pass in this password as your login password for the smtp."
   ]
  },
  {
   "cell_type": "code",
   "execution_count": 6,
   "id": "a1c277fb",
   "metadata": {},
   "outputs": [
    {
     "name": "stdout",
     "output_type": "stream",
     "text": [
      "Enter email id: deepjyoti692@gmail.com\n",
      "Password: ········\n"
     ]
    },
    {
     "data": {
      "text/plain": [
       "(235, b'2.7.0 Accepted')"
      ]
     },
     "execution_count": 6,
     "metadata": {},
     "output_type": "execute_result"
    }
   ],
   "source": [
    "email= input('Enter email id: ') #my mail is visible here\n",
    "password = getpass.getpass(\"Password: \") #my password will be hidden here since I have used getpass library.\n",
    "#Also I copied and used the 16 letter  password here which I had generated following the steps above.\n",
    "\n",
    "smtp_obj.login(email,password)"
   ]
  },
  {
   "cell_type": "markdown",
   "id": "40a21d4d",
   "metadata": {},
   "source": [
    "## Step 5:Sending the message"
   ]
  },
  {
   "cell_type": "markdown",
   "id": "ba5d51de",
   "metadata": {},
   "source": [
    "Now we can send an email using the .sendmail() method."
   ]
  },
  {
   "cell_type": "code",
   "execution_count": 7,
   "id": "97876a50",
   "metadata": {},
   "outputs": [
    {
     "name": "stdout",
     "output_type": "stream",
     "text": [
      "Enter the subject line here: A Message to myself\n",
      "Enter the msg here Hi dear, you are doing great. Keep it up!!!!\n"
     ]
    },
    {
     "data": {
      "text/plain": [
       "{}"
      ]
     },
     "execution_count": 7,
     "metadata": {},
     "output_type": "execute_result"
    }
   ],
   "source": [
    "from_address= email\n",
    "to_address = email # here i have sent email to myself only.\n",
    "# to send email to other person,  input his/her email id\n",
    "\n",
    "subject= input('Enter the subject line here: ')\n",
    "msg = input('Enter the msg here ')\n",
    "\n",
    "message= \"Subject: \" + subject + '\\n' + msg\n",
    "smtp_obj.sendmail(from_address,to_address,msg)"
   ]
  },
  {
   "cell_type": "markdown",
   "id": "fdc8c7a2",
   "metadata": {},
   "source": [
    "### If you get back an empty dictionary, then the sending was successful."
   ]
  },
  {
   "cell_type": "markdown",
   "id": "81c9e55e",
   "metadata": {},
   "source": [
    "## Step 6: Closing the session"
   ]
  },
  {
   "cell_type": "markdown",
   "id": "384aa80d",
   "metadata": {},
   "source": [
    " We can then close our session with the .quit() method"
   ]
  },
  {
   "cell_type": "code",
   "execution_count": 9,
   "id": "adbd39b2",
   "metadata": {},
   "outputs": [
    {
     "data": {
      "text/plain": [
       "(221, b'2.0.0 closing connection j12sm1575724pff.127 - gsmtp')"
      ]
     },
     "execution_count": 9,
     "metadata": {},
     "output_type": "execute_result"
    }
   ],
   "source": [
    "smtp_obj.quit()"
   ]
  }
 ],
 "metadata": {
  "kernelspec": {
   "display_name": "Python 3",
   "language": "python",
   "name": "python3"
  },
  "language_info": {
   "codemirror_mode": {
    "name": "ipython",
    "version": 3
   },
   "file_extension": ".py",
   "mimetype": "text/x-python",
   "name": "python",
   "nbconvert_exporter": "python",
   "pygments_lexer": "ipython3",
   "version": "3.8.8"
  }
 },
 "nbformat": 4,
 "nbformat_minor": 5
}
