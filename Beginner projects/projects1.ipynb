{
 "cells": [
  {
   "cell_type": "markdown",
   "id": "de16a008",
   "metadata": {},
   "source": [
    "# PYTHON PROJECTS FOR BEGINNERS"
   ]
  },
  {
   "cell_type": "markdown",
   "id": "3f355ae4",
   "metadata": {},
   "source": [
    "### 1.CREATING FONT ART USING PYTHON"
   ]
  },
  {
   "cell_type": "code",
   "execution_count": 10,
   "id": "9794dc77",
   "metadata": {},
   "outputs": [
    {
     "name": "stdout",
     "output_type": "stream",
     "text": [
      "######  ####### ####### ######        # #     # ####### ####### ### \n",
      "#     # #       #       #     #       #  #   #  #     #    #     #  \n",
      "#     # #       #       #     #       #   # #   #     #    #     #  \n",
      "#     # #####   #####   ######        #    #    #     #    #     #  \n",
      "#     # #       #       #       #     #    #    #     #    #     #  \n",
      "#     # #       #       #       #     #    #    #     #    #     #  \n",
      "######  ####### ####### #        #####     #    #######    #    ### \n",
      "                                                                    \n",
      "\n"
     ]
    }
   ],
   "source": [
    "import pyfiglet\n",
    "font = pyfiglet.figlet_format('DEEPJYOTI',font='banner')\n",
    "print(font)"
   ]
  },
  {
   "cell_type": "markdown",
   "id": "644c408b",
   "metadata": {},
   "source": [
    "for more fonts go to http://www.figlet.org/fontdb.cgi"
   ]
  },
  {
   "cell_type": "markdown",
   "id": "288be1a2",
   "metadata": {},
   "source": [
    "### 2. Shutting down computer using Python"
   ]
  },
  {
   "cell_type": "code",
   "execution_count": 1,
   "id": "5cc6c530",
   "metadata": {},
   "outputs": [],
   "source": [
    "import os\n",
    "def shutdown():\n",
    "    os.system(\"shutdown /s /t 1\")\n",
    "shutdown()"
   ]
  },
  {
   "cell_type": "markdown",
   "id": "1b9f27b1",
   "metadata": {},
   "source": [
    "## 3. creating table using python"
   ]
  },
  {
   "cell_type": "code",
   "execution_count": 3,
   "id": "a22b5302",
   "metadata": {},
   "outputs": [
    {
     "name": "stdout",
     "output_type": "stream",
     "text": [
      "-----  ------  ---\n",
      "name   gender  age\n",
      "deep   female  21\n",
      "jyoti  female  34\n",
      "-----  ------  ---\n"
     ]
    }
   ],
   "source": [
    "from tabulate import tabulate\n",
    "data=[['name','gender','age'],['deep','female',21],['jyoti','female',34]]\n",
    "print(tabulate(data))"
   ]
  },
  {
   "cell_type": "markdown",
   "id": "d45737dc",
   "metadata": {},
   "source": [
    "### 4. checking palindrome words"
   ]
  },
  {
   "cell_type": "code",
   "execution_count": 16,
   "id": "86c15595",
   "metadata": {},
   "outputs": [
    {
     "name": "stdout",
     "output_type": "stream",
     "text": [
      "enter the word: sdsds\n",
      "it is palindrome\n"
     ]
    }
   ],
   "source": [
    "num=input(\"enter the word: \")\n",
    "def palin(num):\n",
    "    \n",
    "    if num[0:len(num)]==num[::-1]:\n",
    "        print('it is palindrome')\n",
    "    else:\n",
    "        print('it is not palindrome')\n",
    "palin(num)\n",
    "        "
   ]
  },
  {
   "cell_type": "markdown",
   "id": "b71c420d",
   "metadata": {},
   "source": [
    "### checking palindrome words in a sentence"
   ]
  },
  {
   "cell_type": "code",
   "execution_count": 17,
   "id": "023b717c",
   "metadata": {},
   "outputs": [
    {
     "data": {
      "text/plain": [
       "['fdshgsd', 'fdh', '/.,,fd', 'fdshg', 'fgha']"
      ]
     },
     "execution_count": 17,
     "metadata": {},
     "output_type": "execute_result"
    }
   ],
   "source": [
    "a='fdshgsd fdh /.,,fd fdshg fgha'\n",
    "a.split()"
   ]
  },
  {
   "cell_type": "code",
   "execution_count": 2,
   "id": "0b3df4c2",
   "metadata": {},
   "outputs": [
    {
     "name": "stdout",
     "output_type": "stream",
     "text": [
      "enter the sentence :bch hjhjh hjcvfhx cgdhl hyhyh\n",
      "the list of palindrome words is: ['hjhjh', 'hyhyh']\n"
     ]
    }
   ],
   "source": [
    "sentence= input('enter the sentence :')\n",
    "def palindrome(sentence):\n",
    "    for i in (\">.?/<,:;'(){}[]*^%$#@!!\"):\n",
    "        sentence=sentence.replace(i,'')\n",
    "    pL=[]\n",
    "    for num in sentence.split(' '):\n",
    "        if num==num[::-1]:\n",
    "            pL.append(num)\n",
    "    print('the list of palindrome words is: {}'.format(pL)) \n",
    "palindrome(sentence)\n",
    "        "
   ]
  },
  {
   "cell_type": "code",
   "execution_count": null,
   "id": "36c3c3ab",
   "metadata": {},
   "outputs": [],
   "source": []
  }
 ],
 "metadata": {
  "kernelspec": {
   "display_name": "Python 3",
   "language": "python",
   "name": "python3"
  },
  "language_info": {
   "codemirror_mode": {
    "name": "ipython",
    "version": 3
   },
   "file_extension": ".py",
   "mimetype": "text/x-python",
   "name": "python",
   "nbconvert_exporter": "python",
   "pygments_lexer": "ipython3",
   "version": "3.8.8"
  }
 },
 "nbformat": 4,
 "nbformat_minor": 5
}
